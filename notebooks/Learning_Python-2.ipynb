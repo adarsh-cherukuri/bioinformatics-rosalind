{
  "nbformat": 4,
  "nbformat_minor": 0,
  "metadata": {
    "colab": {
      "provenance": [],
      "collapsed_sections": [
        "jYlnA2Z2FhoW",
        "qRj8vCvXG-1k",
        "s7deJQCHHwOa",
        "GtjxkNHWN5Xo",
        "3yswDberkE7N",
        "4IM-9eAGkPdi",
        "nlBbe3qBRH_J",
        "_F9KCUzCd3ID",
        "iHFNxm30lzic",
        "sOgq54Op4MZL",
        "R5_dYi9f6t1z",
        "LdtXZ0LW9ugo",
        "i4Fo-ddSKWwy",
        "iupO8iI-ZYAe",
        "lY924yM0jckW",
        "NvqGEl4JjpiO",
        "DHzE7CI4lWGw",
        "WD5wnvQkmh6E",
        "kApNvgOLn8lp",
        "kq9QbEttnA4h"
      ]
    },
    "kernelspec": {
      "name": "python3",
      "display_name": "Python 3"
    },
    "language_info": {
      "name": "python"
    }
  },
  "cells": [
    {
      "cell_type": "markdown",
      "source": [
        "# **<font color=blue>P1.** </font>Rename this notebook **Bioinformatics_Module03.ipynb </font><br>**"
      ],
      "metadata": {
        "id": "l3h89jAYBUzz"
      }
    },
    {
      "cell_type": "markdown",
      "source": [
        "# **<font color=blue>P2. </font>**```print()```writes to standard output (i.e. prints output to the screen)"
      ],
      "metadata": {
        "id": "jYlnA2Z2FhoW"
      }
    },
    {
      "cell_type": "markdown",
      "source": [
        "####**TASK P2.1:** Print <font color = magenta>hello world</font>"
      ],
      "metadata": {
        "id": "r118fqQodA9x"
      }
    },
    {
      "cell_type": "code",
      "source": [
        "print(\"hello world\")"
      ],
      "metadata": {
        "id": "kvxK8D5uFx_x",
        "colab": {
          "base_uri": "https://localhost:8080/"
        },
        "outputId": "733af4d8-2bc3-4a3d-c714-605ac1888c35"
      },
      "execution_count": 1,
      "outputs": [
        {
          "output_type": "stream",
          "name": "stdout",
          "text": [
            "hello world\n"
          ]
        }
      ]
    },
    {
      "cell_type": "markdown",
      "source": [
        "# **<font color=blue>P3. </font>**```=``` is the ASSIGNMENT operator (assigns values to variables)\n",
        "####**TASK P3.1:** Ask Gemini, \"*Give me 3 examples to help practice understanding the assignment operator.*\""
      ],
      "metadata": {
        "id": "qRj8vCvXG-1k"
      }
    },
    {
      "cell_type": "code",
      "source": [
        "x=5\n",
        "x"
      ],
      "metadata": {
        "id": "VB8HPNe7JpuJ",
        "colab": {
          "base_uri": "https://localhost:8080/"
        },
        "outputId": "fd8a30ac-896a-4007-da49-1bd8e1ff9b41"
      },
      "execution_count": 2,
      "outputs": [
        {
          "output_type": "execute_result",
          "data": {
            "text/plain": [
              "5"
            ]
          },
          "metadata": {},
          "execution_count": 2
        }
      ]
    },
    {
      "cell_type": "markdown",
      "source": [
        "# **<font color=blue>P4. </font>** Data types: use ```type()``` to find a variable's \"type\"\n",
        "####**TASK P4.1:** Ask Gemini, \"*Give me examples of each data type to see how they look as outputs.*\""
      ],
      "metadata": {
        "id": "s7deJQCHHwOa"
      }
    },
    {
      "cell_type": "code",
      "source": [
        "type(x))"
      ],
      "metadata": {
        "colab": {
          "base_uri": "https://localhost:8080/",
          "height": 105
        },
        "id": "ktR75uWIJ0uc",
        "outputId": "f3adcbae-f0f2-4465-a164-bea8f04e7669"
      },
      "execution_count": 3,
      "outputs": [
        {
          "output_type": "error",
          "ename": "SyntaxError",
          "evalue": "unmatched ')' (ipython-input-750881560.py, line 1)",
          "traceback": [
            "\u001b[0;36m  File \u001b[0;32m\"/tmp/ipython-input-750881560.py\"\u001b[0;36m, line \u001b[0;32m1\u001b[0m\n\u001b[0;31m    type(x))\u001b[0m\n\u001b[0m           ^\u001b[0m\n\u001b[0;31mSyntaxError\u001b[0m\u001b[0;31m:\u001b[0m unmatched ')'\n"
          ]
        }
      ]
    },
    {
      "cell_type": "markdown",
      "source": [
        "# **<font color=blue>P5. </font>** Arithmetic and comparison operators\n",
        "####**TASK P5.1:**   Complete Rosalind #1"
      ],
      "metadata": {
        "id": "GtjxkNHWN5Xo"
      }
    },
    {
      "cell_type": "code",
      "source": [
        "y=2+3\n",
        "print(y)\n",
        "x==y"
      ],
      "metadata": {
        "id": "45s9c4vyQm2U",
        "colab": {
          "base_uri": "https://localhost:8080/"
        },
        "outputId": "65685faa-9399-459e-8236-99666d7d32c5"
      },
      "execution_count": 4,
      "outputs": [
        {
          "output_type": "stream",
          "name": "stdout",
          "text": [
            "5\n"
          ]
        },
        {
          "output_type": "execute_result",
          "data": {
            "text/plain": [
              "True"
            ]
          },
          "metadata": {},
          "execution_count": 4
        }
      ]
    },
    {
      "cell_type": "markdown",
      "source": [
        "# **<font color=blue>P6. </font>** ```input()``` gets input from the user"
      ],
      "metadata": {
        "id": "3yswDberkE7N"
      }
    },
    {
      "cell_type": "markdown",
      "source": [
        "TASK P6.1"
      ],
      "metadata": {
        "id": "z97rSY9gqdad"
      }
    },
    {
      "cell_type": "code",
      "metadata": {
        "id": "d91046dd"
      },
      "source": [
        "name = input(\"Enter your name: \")\n",
        "print(\"Hello, \" + name)"
      ],
      "execution_count": null,
      "outputs": []
    },
    {
      "cell_type": "markdown",
      "source": [
        "####**TASK P6.1:** Solve Rosalind #1 again, but get user input for the values of a and b rather than modifying the code."
      ],
      "metadata": {
        "id": "e3LaAQeLRmE6"
      }
    },
    {
      "cell_type": "code",
      "source": [
        "a= int(input(\"enter a value for a:\"))\n",
        "b= int(input(\"enter a value for b:\"))\n",
        "c=a**2+b**2\n",
        "print (\"The sq of the hypotenuse is\",c)"
      ],
      "metadata": {
        "id": "wZ0XL0L6Rq2H"
      },
      "execution_count": null,
      "outputs": []
    },
    {
      "cell_type": "markdown",
      "source": [
        "# **<font color=blue>P7. </font>** ```list``` type variables (create, replace, append)"
      ],
      "metadata": {
        "id": "4IM-9eAGkPdi"
      }
    },
    {
      "cell_type": "markdown",
      "source": [
        "####**TASK P7.1**"
      ],
      "metadata": {
        "id": "DhNGdYK6NEpe"
      }
    },
    {
      "cell_type": "code",
      "source": [
        "# Create a list with 3 elements and then print them\n",
        "\n",
        "my_list = [\"Hello\", \"World\", \"Charles Darwin\"]\n",
        "print (my_list[1])"
      ],
      "metadata": {
        "id": "N3VRRQIEkXuP"
      },
      "execution_count": null,
      "outputs": []
    },
    {
      "cell_type": "markdown",
      "source": [
        "####**TASK P7.2**"
      ],
      "metadata": {
        "id": "Yn3bAoi8NKy5"
      }
    },
    {
      "cell_type": "code",
      "source": [
        "# Substitute the item at index 2 in the list\n",
        "my_list[2] = \"Alfred R. Wallace\"\n",
        "print (my_list)"
      ],
      "metadata": {
        "id": "WNnsUuduOKbI"
      },
      "execution_count": null,
      "outputs": []
    },
    {
      "cell_type": "markdown",
      "source": [
        "####**TASK P7.3**"
      ],
      "metadata": {
        "id": "SxiMMNLyPwGV"
      }
    },
    {
      "cell_type": "code",
      "source": [
        "# Append an item to the end of the list\n",
        "my_list.append(\"Charles Darwin\")\n",
        "print (my_list)"
      ],
      "metadata": {
        "id": "3VrLc6CGQTi-"
      },
      "execution_count": null,
      "outputs": []
    },
    {
      "cell_type": "markdown",
      "source": [
        "####**TASK P7.4**. Ask Gemini how to <font color=crimson>```insert```</font> a new item at index 1 in the list"
      ],
      "metadata": {
        "id": "XQKmwgbfQond"
      }
    },
    {
      "cell_type": "code",
      "source": [
        "# On line #2 insert an item at index 1 of my_list\n",
        "\n",
        "print (my_list)"
      ],
      "metadata": {
        "id": "u0maP5CZZN13"
      },
      "execution_count": null,
      "outputs": []
    },
    {
      "cell_type": "markdown",
      "source": [
        "# **<font color=blue>P8. </font>** Slicing lists and strings"
      ],
      "metadata": {
        "id": "nlBbe3qBRH_J"
      }
    },
    {
      "cell_type": "markdown",
      "source": [
        "####**TASK P8.1** Slice and print only the middle two elements from the list created in P7 (i.e. only <font color=magenta>World</font> and <font color=magenta>Alfred R. Wallace</font>).  "
      ],
      "metadata": {
        "id": "M0YW2MP0WtuI"
      }
    },
    {
      "cell_type": "code",
      "source": [
        "print (my_list[2:4])"
      ],
      "metadata": {
        "colab": {
          "base_uri": "https://localhost:8080/"
        },
        "id": "Tp1djNtiaxSb",
        "outputId": "4a31ce1e-1575-4d0f-8860-6096ea8bad83"
      },
      "execution_count": null,
      "outputs": [
        {
          "output_type": "stream",
          "name": "stdout",
          "text": [
            "['World', 'Alfred R. Wallace']\n"
          ]
        }
      ]
    },
    {
      "cell_type": "markdown",
      "source": [
        "####**TASK P8.2**: Print <font color=magenta>Wallace World</font> from **my_string** by slicing\n"
      ],
      "metadata": {
        "id": "_F9KCUzCd3ID"
      }
    },
    {
      "cell_type": "code",
      "source": [
        "my_string = \"HelloWorldCharlesDarwinAlfred R. Walace\"\n",
        "print (my_string[0:5],my_string[5:10])\n",
        "\n",
        "# in the print command below input the correct index values to complete Task P8.2\n",
        "print (my_string[ : ],my_string[ : ])"
      ],
      "metadata": {
        "colab": {
          "base_uri": "https://localhost:8080/"
        },
        "id": "AafKngtba8En",
        "outputId": "5b35aa9b-37ad-4a2f-bc3f-4d3f4358991f"
      },
      "execution_count": null,
      "outputs": [
        {
          "output_type": "stream",
          "name": "stdout",
          "text": [
            "Hello World\n",
            "HelloWorldCharlesDarwinAlfred R. Walace HelloWorldCharlesDarwinAlfred R. Walace\n"
          ]
        }
      ]
    },
    {
      "cell_type": "markdown",
      "source": [
        "####**TASK P8.3**  **<font color = orange> Complete Rosalind Problem #2 Strings and Lists</font>**"
      ],
      "metadata": {
        "id": "2TTQVE-Xf8jR"
      }
    },
    {
      "cell_type": "code",
      "source": [
        "# Enter code for Rosalind 2 here:\n",
        "s = \"R5rWnTKxPhxiTFOTPZoT8uGDy611uQSuUNmmzNKuj85QBKjO4IGTylototritonMI2nCP2EzObvx8To88bFriSlGJtO9la8ae1EdJQjukXNF9AJOman5GWETdcSxRmWoTLMa8Nn9XsFwzs8tFCmbRzyNjmykiss.\"\n",
        "a, b, c, d = 51, 62, 153, 158\n",
        "\n",
        "first_part = s[a:b+1]\n",
        "second_part = s[c:d+1]\n",
        "\n",
        "print(first_part, second_part)"
      ],
      "metadata": {
        "id": "LI88f5RZh4GL"
      },
      "execution_count": null,
      "outputs": []
    },
    {
      "cell_type": "markdown",
      "source": [
        "####**<font color=crimson>TASK 8.4 Commit to GitHub**</font>*italicized text*"
      ],
      "metadata": {
        "id": "Tw6Pwh6TjwJ9"
      }
    },
    {
      "cell_type": "markdown",
      "source": [
        "# **<font color=blue>P9. </font>** ```if``` and ```else``` - conditional output"
      ],
      "metadata": {
        "id": "iHFNxm30lzic"
      }
    },
    {
      "cell_type": "markdown",
      "source": [
        "####**TASK P9.1** Create some code that subtracts two numbers if they are different or adds them if they are the same."
      ],
      "metadata": {
        "id": "WCXnGdftztbN"
      }
    },
    {
      "cell_type": "code",
      "source": [
        "a=5\n",
        "b=5\n",
        "\n",
        "if a!=b:\n",
        "  print(a-b)\n",
        "\n",
        "else:\n",
        "  print(a+b)"
      ],
      "metadata": {
        "id": "KabZsL5Fy8jJ"
      },
      "execution_count": null,
      "outputs": []
    },
    {
      "cell_type": "markdown",
      "source": [
        "# **<font color=blue>P10.</font>** ```while``` loops"
      ],
      "metadata": {
        "id": "sOgq54Op4MZL"
      }
    },
    {
      "cell_type": "markdown",
      "source": [
        "####**TASK P10.1** Create a while loop that runs 3 times\n"
      ],
      "metadata": {
        "id": "JMqGqhTn4l9s"
      }
    },
    {
      "cell_type": "code",
      "source": [
        "#initiate a counter\n",
        "a = 1\n",
        "\n",
        "#print \"Counting!\" while a<=3\n",
        "while a <= 3:\n",
        "\n",
        "    print (\"Counting!\" * a)\n",
        "    #a += 1"
      ],
      "metadata": {
        "id": "07YbiCGO4O1w"
      },
      "execution_count": null,
      "outputs": []
    },
    {
      "cell_type": "markdown",
      "source": [
        "# **<font color=blue>P11.</font>** ```for``` loops – looping over lists"
      ],
      "metadata": {
        "id": "R5_dYi9f6t1z"
      }
    },
    {
      "cell_type": "markdown",
      "source": [
        "####**TASK P11.1** Create a for loop to print each item in a list\n"
      ],
      "metadata": {
        "id": "x9F7v_V073wO"
      }
    },
    {
      "cell_type": "code",
      "source": [
        "names = [\"Alice\",\"Bob\",\"Charley\"]\n",
        "\n",
        "for name in names:\n",
        "    print (\"Hello\", name)"
      ],
      "metadata": {
        "id": "-aqaQ5hz70yo"
      },
      "execution_count": null,
      "outputs": []
    },
    {
      "cell_type": "markdown",
      "source": [
        "# **<font color=blue>P12.</font>** ```for``` loops over a ```range()```of numbers"
      ],
      "metadata": {
        "id": "LdtXZ0LW9ugo"
      }
    },
    {
      "cell_type": "markdown",
      "source": [
        "####**TASK 12.1** Using for and range(), create code that prints the numbers 0-9"
      ],
      "metadata": {
        "id": "jG6jvXEBDi4H"
      }
    },
    {
      "cell_type": "code",
      "source": [
        "# Create a variable to define the  number of iterations\n",
        "iterations = 10\n",
        "\n",
        "#Print the current item's value each time through the loop\n",
        "for number in range(iterations):\n",
        "    print (number)"
      ],
      "metadata": {
        "colab": {
          "base_uri": "https://localhost:8080/"
        },
        "id": "RFBXqQNu_E6X",
        "outputId": "17ea3665-5605-49cb-8207-56ae8b5b34ee"
      },
      "execution_count": null,
      "outputs": [
        {
          "output_type": "stream",
          "name": "stdout",
          "text": [
            "0\n",
            "1\n",
            "2\n",
            "3\n",
            "4\n",
            "5\n",
            "6\n",
            "7\n",
            "8\n",
            "9\n"
          ]
        }
      ]
    },
    {
      "cell_type": "markdown",
      "source": [
        "####**TASK 12.2** Modify the code so that it only prints every 3rd number from 9 through 27 (i.e. including 27)"
      ],
      "metadata": {
        "id": "NRd5srR_G-PQ"
      }
    },
    {
      "cell_type": "code",
      "source": [],
      "metadata": {
        "id": "irYTFPO-IRHo"
      },
      "execution_count": null,
      "outputs": []
    },
    {
      "cell_type": "markdown",
      "source": [
        "####**TASK 12.3** <font color = orange> **Complete Rosalind Problem #3 Conditions and Loops** </font>"
      ],
      "metadata": {
        "id": "83jDEjpMHXUa"
      }
    },
    {
      "cell_type": "code",
      "source": [
        "\n"
      ],
      "metadata": {
        "id": "EI7hRtakG90R"
      },
      "execution_count": null,
      "outputs": []
    },
    {
      "cell_type": "code",
      "source": [
        "a, b = 4591,8709\n",
        "print(sum(range(a | 1, b+1, 2)))\n"
      ],
      "metadata": {
        "colab": {
          "base_uri": "https://localhost:8080/"
        },
        "id": "PWTkQC4pWrzK",
        "outputId": "89dd90b5-0d32-427d-9ea7-5a03244dc562"
      },
      "execution_count": null,
      "outputs": [
        {
          "output_type": "stream",
          "name": "stdout",
          "text": [
            "13699000\n"
          ]
        }
      ]
    },
    {
      "cell_type": "markdown",
      "source": [
        "####**<font color=crimson>TASK 12.4 Commit to GitHub**</font>"
      ],
      "metadata": {
        "id": "3P9DKNbPI1wp"
      }
    },
    {
      "cell_type": "markdown",
      "source": [
        "# **<font color=blue>P13.</font>** File I/O – with open(\"filename\", \"mode\") as filehandle:\n"
      ],
      "metadata": {
        "id": "i4Fo-ddSKWwy"
      }
    },
    {
      "cell_type": "markdown",
      "source": [
        "####**TASK P13.1** Use the ```read()``` function to print the <font color = orange>practice dataset from Rosalind #4</font>\n"
      ],
      "metadata": {
        "id": "sgc3wiQmLXcI"
      }
    },
    {
      "cell_type": "code",
      "source": [
        "with open(\"rosalind_ini5 (1).txt\", \"r\") as infile, open(\"output.txt\", \"w\") as outfile:\n",
        "    for idx, line in enumerate(infile, start=1):\n",
        "        if idx % 2 == 0:\n",
        "            outfile.write(line)"
      ],
      "metadata": {
        "id": "V5nzHsnULA_n"
      },
      "execution_count": null,
      "outputs": []
    },
    {
      "cell_type": "markdown",
      "source": [
        "####**TASK P13.2** Explore file object functions to read and print practice.txt"
      ],
      "metadata": {
        "id": "GLO6tBYNVzYZ"
      }
    },
    {
      "cell_type": "markdown",
      "source": [
        "#<font color=blue>**P14.**</font> Store the content, close the file, and join ( ) the list"
      ],
      "metadata": {
        "id": "iupO8iI-ZYAe"
      }
    },
    {
      "cell_type": "code",
      "source": [
        "with open(\"practice.txt\",\"r\") as data:\n",
        "\n",
        "  list_of_lines=data.readlines()\n",
        "\n",
        "print (list_of_lines)"
      ],
      "metadata": {
        "id": "8U5w2qOudDyp"
      },
      "execution_count": null,
      "outputs": []
    },
    {
      "cell_type": "markdown",
      "source": [
        "####**TASK P14.1** Read practice.txt into a list of lines. Then, after the file is closed, use the join ( ) function to print the contents so it looks like the original input."
      ],
      "metadata": {
        "id": "5pPhGmQYiiKx"
      }
    },
    {
      "cell_type": "code",
      "source": [
        "print (\"_\".join())"
      ],
      "metadata": {
        "id": "XLvFZ9uSeyYH"
      },
      "execution_count": null,
      "outputs": []
    },
    {
      "cell_type": "markdown",
      "source": [
        "#<font color=blue>**P15.**</font> Combining for loops with file objects"
      ],
      "metadata": {
        "id": "lY924yM0jckW"
      }
    },
    {
      "cell_type": "markdown",
      "source": [
        "####**TASK P15.1** Use a for loop to print each line in practice.txt"
      ],
      "metadata": {
        "id": "NvqGEl4JjpiO"
      }
    },
    {
      "cell_type": "code",
      "source": [
        "with open(\"practice.txt\",\"r\") as data:\n",
        "\n",
        "  for line in data:\n",
        "    print (line)"
      ],
      "metadata": {
        "id": "snY-10pUkMby"
      },
      "execution_count": null,
      "outputs": []
    },
    {
      "cell_type": "markdown",
      "source": [
        "####**TASK P15.2** <font color=orange>**Complete Rosalind Problem #4 Working with Files**</font>\n"
      ],
      "metadata": {
        "id": "DHzE7CI4lWGw"
      }
    },
    {
      "cell_type": "code",
      "source": [
        "with open(\"rosalind_ini5 (1).txt\", \"r\") as infile, open(\"output.txt\", \"w\") as outfile:\n",
        "    for idx, line in enumerate(infile, start=1):\n",
        "        if idx % 2 == 0:\n",
        "            outfile.write(line)"
      ],
      "metadata": {
        "id": "8QR9dRFtltBN"
      },
      "execution_count": null,
      "outputs": []
    },
    {
      "cell_type": "markdown",
      "source": [
        "####**<font color=crimson>TASK 15.4 Commit to GitHub**</font>"
      ],
      "metadata": {
        "id": "GJ_acW4WlwDn"
      }
    },
    {
      "cell_type": "markdown",
      "source": [
        "#<font color=blue>**P16.**</font> ```for word in line.split()``` – looping over strings and splitting by any delimiter"
      ],
      "metadata": {
        "id": "WD5wnvQkmh6E"
      }
    },
    {
      "cell_type": "markdown",
      "source": [
        "####**TASK P16.1** Print each word in the ROSALIND Problem #5 Sample Dataset on a separate line.\n"
      ],
      "metadata": {
        "id": "kApNvgOLn8lp"
      }
    },
    {
      "cell_type": "code",
      "source": [
        "with open(\"practice_5.txt\",\"r\") as data:\n",
        "\n",
        "  line=data.read()\n",
        "\n",
        "for word in line.split():\n",
        "    print (word)"
      ],
      "metadata": {
        "colab": {
          "base_uri": "https://localhost:8080/"
        },
        "id": "PBjyhwclpKoM",
        "outputId": "afb464a8-3407-43ec-e091-5e57dd22b646"
      },
      "execution_count": null,
      "outputs": [
        {
          "output_type": "stream",
          "name": "stdout",
          "text": [
            "We\n",
            "tried\n",
            "list\n",
            "and\n",
            "we\n",
            "tried\n",
            "dicts\n",
            "also\n",
            "we\n",
            "tried\n",
            "Zen\n"
          ]
        }
      ]
    },
    {
      "cell_type": "markdown",
      "source": [
        "#<font color=blue>**P17.**</font> Python Dictionaries { }"
      ],
      "metadata": {
        "id": "kq9QbEttnA4h"
      }
    },
    {
      "cell_type": "markdown",
      "source": [
        "####**TASK 17.1** Create and print your first dictionary"
      ],
      "metadata": {
        "id": "lVudFQkZqJgh"
      }
    },
    {
      "cell_type": "code",
      "source": [
        "sequences = {\n",
        "    \"H.neandertalensis\":\"ACGTCGCTCTGCTA\",\n",
        "    \"H.sapiens\":\"ACGTCACTCTGCTA\"\n",
        "    }\n",
        "\n",
        "print (sequences)"
      ],
      "metadata": {
        "colab": {
          "base_uri": "https://localhost:8080/"
        },
        "id": "IzKFWDlgq6zo",
        "outputId": "1a4d0584-afcb-46ea-fac1-265bbc7bcd89"
      },
      "execution_count": null,
      "outputs": [
        {
          "output_type": "stream",
          "name": "stdout",
          "text": [
            "{'H.neandertalensis': 'ACGTCGCTCTGCTA', 'H.sapiens': 'ACGTCACTCTGCTA'}\n",
            "ACGTCACTCTGCTA\n",
            ">H.neandertalensis\n",
            "ACGTCGCTCTGCTA\n",
            ">H.sapiens\n",
            "ACGTCACTCTGCTA\n",
            ">P.troglodytes\n",
            "ACGTCACTCTCCTA\n",
            ">G.gorilla\n",
            "ACGTCCTCCTA\n",
            ">H.erectus\n",
            "ACGTCACTCTGCTA\n"
          ]
        },
        {
          "output_type": "execute_result",
          "data": {
            "text/plain": [
              "{'H.neandertalensis': 'ACGTCGCTCTGCTA',\n",
              " 'H.sapiens': 'ACGTCACTCTGCTA',\n",
              " 'P.troglodytes': 'ACGTCACTCTCCTA',\n",
              " 'G.gorilla': 'ACGTCCTCCTA',\n",
              " 'H.erectus': 'ACGTCACTCTGCTA'}"
            ]
          },
          "metadata": {},
          "execution_count": 60
        }
      ]
    },
    {
      "cell_type": "markdown",
      "source": [
        "#<font color=blue>**P18.**</font> Manipulating and printing dictionaries"
      ],
      "metadata": {
        "id": "OvqoT6UwnK0g"
      }
    },
    {
      "cell_type": "markdown",
      "source": [
        "####**TASK 18.1** Modify line 8 to create a fasta file of the hominid sequences"
      ],
      "metadata": {
        "id": "5Be2tcQRrjso"
      }
    },
    {
      "cell_type": "code",
      "source": [
        "sequences[\"P.troglodytes\"]=\"ACGTCACTCTCCTA\"\n",
        "\n",
        "sequences.update({\"G.gorilla\":\"ACGTCCTCCTA\", \"H.erectus\":\"ACGTCACTCTGCTA\"})\n",
        "\n",
        "print (sequences[\"H.sapiens\"])\n",
        "\n",
        "for key,value in sequences.items():\n",
        "     print (key,value)"
      ],
      "metadata": {
        "colab": {
          "base_uri": "https://localhost:8080/"
        },
        "id": "b-2XDof4rtP8",
        "outputId": "1e998098-f26e-4df1-fd79-38816a84ee15"
      },
      "execution_count": null,
      "outputs": [
        {
          "output_type": "stream",
          "name": "stdout",
          "text": [
            "ACGTCACTCTGCTA\n",
            "H.neandertalensis ACGTCGCTCTGCTA\n",
            "H.sapiens ACGTCACTCTGCTA\n",
            "P.troglodytes ACGTCACTCTCCTA\n",
            "G.gorilla ACGTCCTCCTA\n",
            "H.erectus ACGTCACTCTGCTA\n"
          ]
        }
      ]
    },
    {
      "cell_type": "markdown",
      "source": [
        "####**TASK P18.2** <font color= orange>**Complete Rosalind Problem #5  Dictionaries**</font>"
      ],
      "metadata": {
        "id": "Y98OZYUNvmWD"
      }
    },
    {
      "cell_type": "code",
      "source": [],
      "metadata": {
        "id": "lD3KoTY9wWa7"
      },
      "execution_count": null,
      "outputs": []
    },
    {
      "cell_type": "code",
      "execution_count": null,
      "metadata": {
        "colab": {
          "base_uri": "https://localhost:8080/"
        },
        "id": "Tv44X2FwZQK0",
        "outputId": "3665f0a9-3f1e-44c8-fb11-8c11701fc66f"
      },
      "outputs": [
        {
          "output_type": "stream",
          "name": "stdout",
          "text": [
            "When 1\n",
            "I 2\n",
            "find 1\n",
            "myself 1\n",
            "in 4\n",
            "times 1\n",
            "of 11\n",
            "trouble 1\n",
            "Mother 2\n",
            "Mary 2\n",
            "comes 2\n",
            "to 3\n",
            "me 4\n",
            "Speaking 3\n",
            "words 7\n",
            "wisdom 7\n",
            "let 30\n",
            "it 36\n",
            "be 41\n",
            "And 3\n",
            "my 1\n",
            "hour 1\n",
            "darkness 1\n",
            "she 1\n",
            "is 4\n",
            "standing 1\n",
            "right 1\n",
            "front 1\n",
            "Let 6\n",
            "Whisper 4\n",
            "when 2\n",
            "the 4\n",
            "broken 1\n",
            "hearted 1\n",
            "people 1\n",
            "living 1\n",
            "world 1\n",
            "agree 1\n",
            "There 4\n",
            "will 5\n",
            "an 4\n",
            "answer 4\n",
            "For 1\n",
            "though 1\n",
            "they 2\n",
            "may 1\n",
            "parted 1\n",
            "there 2\n",
            "still 2\n",
            "a 2\n",
            "chance 1\n",
            "that 2\n",
            "see 1\n",
            "night 1\n",
            "cloudy 1\n",
            "light 1\n",
            "shines 1\n",
            "on 1\n",
            "Shine 1\n",
            "until 1\n",
            "tomorrow 1\n",
            "wake 1\n",
            "up 1\n",
            "sound 1\n",
            "music 1\n",
            "yeah 2\n"
          ]
        }
      ],
      "source": [
        "def word_count(s: str):\n",
        "    words = s.split()  # Split string into words by spaces\n",
        "    counts = {}\n",
        "\n",
        "    for word in words:\n",
        "        counts[word] = counts.get(word, 0) + 1  # Count each word\n",
        "\n",
        "    # Print each word with its count\n",
        "    for word, count in counts.items():\n",
        "        print(word, count)\n",
        "\n",
        "\n",
        "# Input string\n",
        "s = \"\"\"When I find myself in times of trouble Mother Mary comes to me Speaking words of wisdom let it be\n",
        "And in my hour of darkness she is standing right in front of me Speaking words of wisdom let it be\n",
        "Let it be let it be let it be let it be Whisper words of wisdom let it be And when the broken hearted people\n",
        "living in the world agree There will be an answer let it be For though they may be parted there is still a\n",
        "chance that they will see There will be an answer let it be Let it be let it be let it be let it be There will\n",
        "be an answer let it be Let it be let it be let it be let it be Whisper words of wisdom let it be Let it be\n",
        "let it be let it be let it be Whisper words of wisdom let it be And when the night is cloudy there is still a\n",
        "light that shines on me Shine until tomorrow let it be I wake up to the sound of music Mother Mary comes to me\n",
        "Speaking words of wisdom let it be Let it be let it be let it be yeah let it be There will be an answer let it\n",
        "be Let it be let it be let it be yeah let it be Whisper words of wisdom let it be\"\"\"\n",
        "\n",
        "# Call the function\n",
        "word_count(s)\n"
      ]
    },
    {
      "cell_type": "markdown",
      "source": [
        "####**<font color=crimson>TASK 18.3 Commit to GitHub**</font>"
      ],
      "metadata": {
        "id": "1dJdfy4bwVO4"
      }
    },
    {
      "cell_type": "markdown",
      "source": [
        "#<font color=blue>**P19.**</font> ```count()``` – counting things made easy"
      ],
      "metadata": {
        "id": "28ygQlYJnZoA"
      }
    },
    {
      "cell_type": "markdown",
      "source": [
        "####**TASK P19.1** <font color= orange>**Complete Rosalind Problem #6  Counting DNA Nucleotides**</font>"
      ],
      "metadata": {
        "id": "CZ9tBWDmw4D-"
      }
    },
    {
      "cell_type": "code",
      "source": [],
      "metadata": {
        "id": "GlwS14zGxBIC"
      },
      "execution_count": null,
      "outputs": []
    },
    {
      "cell_type": "code",
      "source": [
        "# Given DNA string\n",
        "dna = \"TGGAATATTATAAGAGCCTGAATAACGGTCCACCGTACGGGGCACAAGCCAGAAAGCACTCGCGGGTGAACGAGGGCCTAGGGGTAGTTGGACAGGTCTCCAAGGATCTAATGAGCGCACGAAACGCAGATGGACCTAGGTGTATGGACGTAAGCCCAACTTAGAGCGATGCTTTTGAAGACCCTGAGTCAAATGCGAGCGAACGACAGCCTTCATGTGGGTGAGGCACGTAAGCAGGATATTTGTGTTTATCCCTCTGCCGGACCGACAGTTTCTGGTTGATCCTTCACCACAGGAGTTTCGGAATGGCGCTACCCTCTCGGGTGGCATGTTATGACTGGAACCTCAGTTTCTCTTTCTCAGGGTTTATTAGGCGAATTGAACTTGTTAGTCGCCATAGGGTTAAGGAATAGGTCATCGTTGTTTACACACAATTTCAAGCTGAATCCCCCTGGCTAAGGCACCTCATGAACAATTCTAAAGCCCTAATGGGGAAACTCAGCGCACTTAAACCAGGATAGTCGACCTCTTTCTGTTCTAGTAGCGCCGTTTAGAATTTCTACCTCAAAGGAAAGTACTGCACAAGAATGGTCCACCTAGGGAAAAGAGGGATGCAATCGAGGACAGAGGTCGTCGCGTACGGGTGGAAGACTGCTAATGTCCGATGCTGCCAAACCTTCACTTAGCACACCTCTATTGGGTTTCATATTTCTTCACTTCCTACGCAAAATACCTGATGGTCGCACACAGCATGTTCAACCGCGTTTAACGCTCTCGGCGAGCACCCTAGCGACGCAGGGTCTGGTCCATCCTGGAGTACTTCCGCCTGATGTGTGTCAATAATTCGGATTATCTACTATAACTCCCCTCAGGAGATGACCTTTACTATACCCCACTATGCGTTTGGTGGTTTGACTGCGACTCGCTCCGTAGTAGGGATCCATGACTTCGGTTCCAACGCTATCGGCTG\"\n",
        "\n",
        "# Transcribe DNA to RNA\n",
        "rna = dna.replace('T', 'U')\n",
        "\n",
        "# Print RNA string\n",
        "print(rna)\n"
      ],
      "metadata": {
        "colab": {
          "base_uri": "https://localhost:8080/"
        },
        "outputId": "0b19188c-d61f-4a23-ad41-724fca59077b",
        "id": "G1FRS6sKqKsJ"
      },
      "execution_count": null,
      "outputs": [
        {
          "output_type": "stream",
          "name": "stdout",
          "text": [
            "UGGAAUAUUAUAAGAGCCUGAAUAACGGUCCACCGUACGGGGCACAAGCCAGAAAGCACUCGCGGGUGAACGAGGGCCUAGGGGUAGUUGGACAGGUCUCCAAGGAUCUAAUGAGCGCACGAAACGCAGAUGGACCUAGGUGUAUGGACGUAAGCCCAACUUAGAGCGAUGCUUUUGAAGACCCUGAGUCAAAUGCGAGCGAACGACAGCCUUCAUGUGGGUGAGGCACGUAAGCAGGAUAUUUGUGUUUAUCCCUCUGCCGGACCGACAGUUUCUGGUUGAUCCUUCACCACAGGAGUUUCGGAAUGGCGCUACCCUCUCGGGUGGCAUGUUAUGACUGGAACCUCAGUUUCUCUUUCUCAGGGUUUAUUAGGCGAAUUGAACUUGUUAGUCGCCAUAGGGUUAAGGAAUAGGUCAUCGUUGUUUACACACAAUUUCAAGCUGAAUCCCCCUGGCUAAGGCACCUCAUGAACAAUUCUAAAGCCCUAAUGGGGAAACUCAGCGCACUUAAACCAGGAUAGUCGACCUCUUUCUGUUCUAGUAGCGCCGUUUAGAAUUUCUACCUCAAAGGAAAGUACUGCACAAGAAUGGUCCACCUAGGGAAAAGAGGGAUGCAAUCGAGGACAGAGGUCGUCGCGUACGGGUGGAAGACUGCUAAUGUCCGAUGCUGCCAAACCUUCACUUAGCACACCUCUAUUGGGUUUCAUAUUUCUUCACUUCCUACGCAAAAUACCUGAUGGUCGCACACAGCAUGUUCAACCGCGUUUAACGCUCUCGGCGAGCACCCUAGCGACGCAGGGUCUGGUCCAUCCUGGAGUACUUCCGCCUGAUGUGUGUCAAUAAUUCGGAUUAUCUACUAUAACUCCCCUCAGGAGAUGACCUUUACUAUACCCCACUAUGCGUUUGGUGGUUUGACUGCGACUCGCUCCGUAGUAGGGAUCCAUGACUUCGGUUCCAACGCUAUCGGCUG\n"
          ]
        }
      ]
    },
    {
      "cell_type": "markdown",
      "source": [
        "####**TASK P19.2** Modify your code for the Rosalind #5 Dictionary problem so that it uses count( ) to count the words."
      ],
      "metadata": {
        "id": "rj-OWB6Jym5y"
      }
    },
    {
      "cell_type": "code",
      "source": [],
      "metadata": {
        "id": "9H_S6jLnzfxR"
      },
      "execution_count": null,
      "outputs": []
    },
    {
      "cell_type": "markdown",
      "source": [
        "####**<font color=crimson>TASK 19.3 Commit to GitHub**</font>\n"
      ],
      "metadata": {
        "id": "RzMon_wAzg7D"
      }
    },
    {
      "cell_type": "markdown",
      "source": [
        "#<font color=blue>**P20.**</font> Installing biopython"
      ],
      "metadata": {
        "id": "-IB0c2gG0Z1O"
      }
    },
    {
      "cell_type": "code",
      "source": [
        "!pip install biopython"
      ],
      "metadata": {
        "colab": {
          "base_uri": "https://localhost:8080/"
        },
        "id": "pinPQdEn0mJM",
        "outputId": "87a0b9ae-2c9d-447f-8eca-d9020b2b713a"
      },
      "execution_count": null,
      "outputs": [
        {
          "output_type": "stream",
          "name": "stdout",
          "text": [
            "Collecting biopython\n",
            "  Downloading biopython-1.85-cp312-cp312-manylinux_2_17_x86_64.manylinux2014_x86_64.whl.metadata (13 kB)\n",
            "Requirement already satisfied: numpy in /usr/local/lib/python3.12/dist-packages (from biopython) (2.0.2)\n",
            "Downloading biopython-1.85-cp312-cp312-manylinux_2_17_x86_64.manylinux2014_x86_64.whl (3.3 MB)\n",
            "\u001b[2K   \u001b[90m━━━━━━━━━━━━━━━━━━━━━━━━━━━━━━━━━━━━━━━━\u001b[0m \u001b[32m3.3/3.3 MB\u001b[0m \u001b[31m36.0 MB/s\u001b[0m eta \u001b[36m0:00:00\u001b[0m\n",
            "\u001b[?25hInstalling collected packages: biopython\n",
            "Successfully installed biopython-1.85\n"
          ]
        }
      ]
    },
    {
      "cell_type": "code",
      "metadata": {
        "colab": {
          "base_uri": "https://localhost:8080/"
        },
        "id": "5ccd6f0b",
        "outputId": "e0650d46-1501-47ef-e6c0-98c374646574"
      },
      "source": [
        "try:\n",
        "  from Bio.Seq import Seq\n",
        "  print(\"Biopython is installed correctly.\")\n",
        "except ImportError:\n",
        "  print(\"Biopython is not installed or there was an import error.\")"
      ],
      "execution_count": null,
      "outputs": [
        {
          "output_type": "stream",
          "name": "stdout",
          "text": [
            "Biopython is installed correctly.\n"
          ]
        }
      ]
    },
    {
      "cell_type": "markdown",
      "source": [
        "#<font color=blue>**P21.**</font> Seq( ) – a function to define sequence objects"
      ],
      "metadata": {
        "id": "IGX-ThdQ3RuA"
      }
    },
    {
      "cell_type": "code",
      "source": [
        "from Bio.Seq import Seq\n",
        "\n",
        "my_sequence = Seq(\"GATGGAACTTGACTACGTAAATT\")"
      ],
      "metadata": {
        "id": "ltZBr8mE4OhM"
      },
      "execution_count": null,
      "outputs": []
    },
    {
      "cell_type": "markdown",
      "source": [
        "####**TASK BP21.2** <font color=orange> **Complete Rosalind #7 Transcribing DNA into RNA**</font>"
      ],
      "metadata": {
        "id": "UXCuEFxg6Jxx"
      }
    },
    {
      "cell_type": "code",
      "source": [],
      "metadata": {
        "id": "UXt6gWLM6qde"
      },
      "execution_count": null,
      "outputs": []
    },
    {
      "cell_type": "code",
      "source": [
        "# RNA codon table\n",
        "rna_codon_table = {\n",
        "    'UUU':'F', 'CUU':'L', 'AUU':'I', 'GUU':'V',\n",
        "    'UUC':'F', 'CUC':'L', 'AUC':'I', 'GUC':'V',\n",
        "    'UUA':'L', 'CUA':'L', 'AUA':'I', 'GUA':'V',\n",
        "    'UUG':'L', 'CUG':'L', 'AUG':'M', 'GUG':'V',\n",
        "    'UCU':'S', 'CCU':'P', 'ACU':'T', 'GCU':'A',\n",
        "    'UCC':'S', 'CCC':'P', 'ACC':'T', 'GCC':'A',\n",
        "    'UCA':'S', 'CCA':'P', 'ACA':'T', 'GCA':'A',\n",
        "    'UCG':'S', 'CCG':'P', 'ACG':'T', 'GCG':'A',\n",
        "    'UAU':'Y', 'CAU':'H', 'AAU':'N', 'GAU':'D',\n",
        "    'UAC':'Y', 'CAC':'H', 'AAC':'N', 'GAC':'D',\n",
        "    'UAA':'Stop', 'CAA':'Q', 'AAA':'K', 'GAA':'E',\n",
        "    'UAG':'Stop', 'CAG':'Q', 'AAG':'K', 'GAG':'E',\n",
        "    'UGU':'C', 'CGU':'R', 'AGU':'S', 'GGU':'G',\n",
        "    'UGC':'C', 'CGC':'R', 'AGC':'S', 'GGC':'G',\n",
        "    'UGA':'Stop', 'CGA':'R', 'AGA':'R', 'GGA':'G',\n",
        "    'UGG':'W', 'CGG':'R', 'AGG':'R', 'GGG':'G'\n",
        "}\n",
        "\n",
        "# Paste your RNA string here and remove any spaces or line breaks\n",
        "rna = \"\"\"AUGUUCUUCCCCGUUAAUGUGCUACCUGUUACACGCUUUUGUCCGCCGCGGAUUU...\"\"\"  # shortened for example\n",
        "rna = rna.replace(\"\\n\", \"\").replace(\" \", \"\")  # remove line breaks and spaces\n",
        "\n",
        "protein = \"\"\n",
        "for i in range(0, len(rna), 3):\n",
        "    codon = rna[i:i+3]\n",
        "    if len(codon) < 3:\n",
        "        break\n",
        "    amino_acid = rna_codon_table.get(codon, '')  # use get() to avoid KeyError\n",
        "    if amino_acid == \"Stop\":\n",
        "        break\n",
        "    protein += amino_acid\n",
        "\n",
        "print(protein)\n"
      ],
      "metadata": {
        "colab": {
          "base_uri": "https://localhost:8080/"
        },
        "id": "7p6_aG0oeHO3",
        "outputId": "0889ad13-6bb2-40b5-fcdb-d75f1ac4229b"
      },
      "execution_count": null,
      "outputs": [
        {
          "output_type": "stream",
          "name": "stdout",
          "text": [
            "MFFPVNVLPVTRFCPPRI\n"
          ]
        }
      ]
    },
    {
      "cell_type": "markdown",
      "source": [
        "####**TASK BP21.2** <font color=orange> **Complete Rosalind #8  Translating RNA into Protein**</font>"
      ],
      "metadata": {
        "id": "9P4_MaXp6O3n"
      }
    },
    {
      "cell_type": "code",
      "source": [],
      "metadata": {
        "id": "5Rzzfzij6q2P"
      },
      "execution_count": null,
      "outputs": []
    },
    {
      "cell_type": "code",
      "source": [
        "# RNA codon table\n",
        "codon_table = {\n",
        "    'UUU':'F', 'CUU':'L', 'AUU':'I', 'GUU':'V',\n",
        "    'UUC':'F', 'CUC':'L', 'AUC':'I', 'GUC':'V',\n",
        "    'UUA':'L', 'CUA':'L', 'AUA':'I', 'GUA':'V',\n",
        "    'UUG':'L', 'CUG':'L', 'AUG':'M', 'GUG':'V',\n",
        "    'UCU':'S', 'CCU':'P', 'ACU':'T', 'GCU':'A',\n",
        "    'UCC':'S', 'CCC':'P', 'ACC':'T', 'GCC':'A',\n",
        "    'UCA':'S', 'CCA':'P', 'ACA':'T', 'GCA':'A',\n",
        "    'UCG':'S', 'CCG':'P', 'ACG':'T', 'GCG':'A',\n",
        "    'UAU':'Y', 'CAU':'H', 'AAU':'N', 'GAU':'D',\n",
        "    'UAC':'Y', 'CAC':'H', 'AAC':'N', 'GAC':'D',\n",
        "    'UAA':'Stop', 'CAA':'Q', 'AAA':'K', 'GAA':'E',\n",
        "    'UAG':'Stop', 'CAG':'Q', 'AAG':'K', 'GAG':'E',\n",
        "    'UGU':'C', 'CGU':'R', 'AGU':'S', 'GGU':'G',\n",
        "    'UGC':'C', 'CGC':'R', 'AGC':'S', 'GGC':'G',\n",
        "    'UGA':'Stop', 'CGA':'R', 'AGA':'R', 'GGA':'G',\n",
        "    'UGG':'W', 'CGG':'R', 'AGG':'R', 'GGG':'G'\n",
        "}\n",
        "\n",
        "# Function to translate RNA to protein\n",
        "def rna_to_protein(rna):\n",
        "    protein = \"\"\n",
        "    for i in range(0, len(rna), 3):\n",
        "        codon = rna[i:i+3]\n",
        "        if len(codon) < 3:\n",
        "            break\n",
        "        amino_acid = codon_table.get(codon, '')\n",
        "        if amino_acid == 'Stop':\n",
        "            break\n",
        "        protein += amino_acid\n",
        "    return protein\n",
        "\n",
        "# Your RNA input\n",
        "rna_input = \"\"\"AUGCACCUUUGGAAGAUUCUAGAGAUUCCAGCCCAGAAUACUUGUAGGCGCUUAGAGAUGAUCGCCAUUUUCAAGGUGCAUGUGUGUGUCGGAACGGAGUUACACGCGGGUCUCUGGAUCCUGGGUGCGGGUCUGUGUACCCUGUGUGAAAUGCUUAGGACGUUCUCUUGGCCACAGACCACAGCAUGGUAUGCUCAUUUACUAUUUUGGAGGUCGUCUCCUACGGAUAAAGUGCUGUCCUUAUGUAACACUACUCAAUAUAAACAAUUUCUUAAGAACCACUGCGUACAGAAAACCCCCACUCCACAGUGCCGGGCCUGGGAGGGUACAGCAAAGAUGUUGGUCCGCGGAAGGCCUUGCGAAACGCCACACAAGAUCACCCUUGACGACAAUUCGGUGGCGCCUAGGCUCGUUACGAAUCCCGUUUCGGACAAACUAUACCGGCAUAACGUUCUCGUUCCUCGUUGCGAGUACGUUAGGCCCCGGCGCCGGGCAUACAGACCCAUCCUUCAACACCCAUAUUCAAAACUAUCUUGCGAUGAAGCCGCUGAUCGUUUUGACUGGUAUGGGCUCGAGCACUUGAAUGCAGAGGUUGCCUGCAAGAGCCAUCUUGCUGUACGAGAGAUUGAUGCAAACGGUUGGCGGACUAAUACGAGACAGAUGGACCCAUAUGCAAUUCGUAGUCAUACGAAGGUUGCUCCGCCACCCGCUUCUUCGGAUAAGAGACGUCACACCACGCCCGCGCCCCGCAUCCUACUGGUGAAAUUUAUAGAUCAGCGUGUGUGUAUAAUACCGAAGAAAAAACAUAACUUAUCGCACUGCAGAGACGCAGCUUUAGCAGGUGGGGAAGCUCCCAACUCCCUAACACAGUAUGCUCGACCCCGUGGAGACUUAGUUGCACAAGUUCGCGUUCUGCAACCAUCUCUAGAGAAGGUACGAUCUUCGUAUCCAGACUGGGUGGCGCGAGUCAAGAGGAGUGAAGACCCCUCUAUACAAGCGGCAAGGAGCCGGUUCGAAAGUACAAAAUCCAGGUUAAUUGUAAAUUGUGAGCGACAAGGAUUGGCAUGGCCCAGCCUACUAGAUAAAAAUCUAUCCAUGUUUCACCGGUUAACUGAGCUAUUGCCUACAUCCAAAAUCCGUCCAACAGUUGUAACGACGGAAAACUUACUCACCAGAGGUCGUUACAUCCGACGCCCCAGGCCAAUGAGCUGUGACGUCAACCUGCAGGCCAGGCCCUUAGGCCUAUUAGUAGUGUACACACGCCGACACGGGCUUCCACGUGUUCCUCGGCCAAAGUUAAAAGGCCUUAUUGGCACCCUCAGGUGCUCAUCUCGCGUCGCAGCCGAGGAUAAUAGAUUCUUCACCUUGAGAGAGAGCAAGGAACCCUUAACCGUCUGGUCUUAUUUGUGCACACUACAUUUACCCGGACGGCACAUUUUUACGCCCGGUGAAGCUUACCGCAAAUCGGUAAGAGCCCUUCUAGCCAUCUGUCAACACAUGCGUUUGAUCCAGCGACUAUUAGCGUUGGACAAUUGGAGUCGUAGCGGGCGUUGGGCAGCCCCGUACCUUGACUAUACGCAUGGGCGGGUGUUUAUUAUUCAGGGUACUGUUAGGAUUCGUAAUACCUGUGAAGUCGAGGAAGAACUAACUGGUGGCCGCAAUCAGCCUGCCCGGCCGUUAUCCCUGCAGAUAAUCACUGUUGGACGCUCUGCCCGUCGGUUGAACAAGGAAAAAAAUCCACGAAAAACAUCAGGUUUACACUUGACACACAAUCCAGCAAGAAGGGCAGCGUAUCAUCUUAUGAAAACGUUGUACCCGUACGUAGAAUACUGGCAGGGUUGUCUCCAUUGCCGCAGGACGCUCUGCACGCCAGGCACAGUCGCACCGGUUAACCCCCGUCCCUCUAUGAAUAAGUCGAAAGGUAGUCUGAGAACGUCCGCAAAUGUUUCUACACUUGGCAAGACCACAAACCGCGGGUUAGAUAAGGGUGCAUCGCACUCCCUUGCUUCCCAGCUUUUGAGAAGUCUGUACCUCGGUCAGAGAAACCGCCAAUAUAACCAAGCAACCAUUGGAUAUAUAUAUUCGGAUUUCUACAUGGUAUAUCUCCGUAGCUUAUCAUGGUCUAAUGCGUAUGCCUUUCCUGCGCCCUUCCUCCUUAACGGUGAGCCAAUUACGCGAUUGCGGGCGGGGCGUAAAGAUGCCGUCCGCUUAGGAUCCUGGAAGUGUUGUUGUCCAAAUGCCGUCGUAUGCCUAACGCCACCCUUCAUUCCCACCCUAAUGGAGAGCGGAUGUCCUAUGCGGAAAGACGACGUUAUCCUUCCCCAAUACUCGUCUUAUCGAUUCGUUGCUAGUCUGUCUCACACUGGUCAACAGCUCCUAGUGGGCAAGGGUACGGGACGGACACGGUCCAAAUAUAGCGAACAGCGCCCUAUUAAUGGGUGGUGUGUUCCCCACCGAGUGCCCGGCAAAAUCGUCGAUCUCCCAUUACGGUCUCGUCCGGGGCACGAGUCAGUCACCUUCAACCCGUCUCAAGGGUGUCUAUCCAUUGAUGGCAGAAUUGGAAUGUCAGGCUGUGACACUCGAAAAAUGGGGCAGUUCGUUCGAUCACGUCGUCUACCAUUCGUACGACUACAAAAUCUUGAAUUUUCUCGCGCUAUCCGUGUCUACCUCAGGAACGGUGGCCGGCUUCGGUGCUUACGCGGAACGUCUGCAAUUGAGGUCAUAGAGAUUCCUCGUCCCUCGGAGAUUAGAGGCUGGUGUGGAGGACACAGGCUUGUUGGUCUGUGCUUUUUGCAUGCUUUAGCCAUACCUGUCUUGCGGCUGCUAGUACUGGCCAACUGCUGGGCCGAGAUGGCAGAAUUUGUAGGUAAUGGGUAUAUUUCGAUAACAUACGCCAAGCGCCAAUCCGGUCUAAGAACGUUCAAAACUCCCUCGGUCGAUUUAGAUUCUGAACGGGGUGGUGUGCACUGUGCCAAGAGGGUUCUCCGUCGGAUGUGUAGGCGCCACCCUGGGUUCAGGAAACUAGUCCUGCAUGCUUAUAUAUUCACUGGCGCGGUAAGGAUCAAGCUAGCAAAUAAGCUGACUUCCGACACUAAAGAAGAGCGGCAGAGAGUAUGGGCCGGACAGUACUGUUGGCAGAGUCGAACCGUUCGAUGGCCUCUGAGAUUCUUCUACUCGGCUAGCCGUUUGGAUAGUAAGGUUACCCUUCAUUCAUUUACCGACAUACCAAGUAAAUCUGAUCGGUUGACCGCGCGAGCUCGAACCGCUAGCCGAAUGUGCACAGCCGCAGAGUCCGAAAGACUUUUUACGGAACCGCUAACUCUCUUAGGCGAGACAUUCCAGCAGACGUUAGCGUCCACACGUGAGACCAACACGGGCGACCCACUAAGUAGUAGAGGCCCUGGGUCGAUGAGAUUAAAGUGCUGGUGGGGUCCAGCGGUUUUUGGCCCGUUAAGCCCACCGCGAUGUACAGGAGGCGCUUGCUGUAACUCGGAGUGCAAAAAAAACAUCACGAGCUUGAUUAACCCUACCUUUAGUAUGGCUGGUAUGGUGCUGACCGGGCCUUGCGUCAAUUAUCGUGAGGGCGCAAUCACAAUUGCGCCUCGUAUUGACCAGUCUACUUAUACAUUCGAGAGGUCCUGUACUCCUCUUGAUUACGCGUACGGGCUCCUAAACCUCGGCGAUUUAGGACCCAAAUACGACACCCAGGGAGCUCCGCGGACAUCGAAGUUAUCAAGCAUUCGCGAUGCACCCGCCAACGGCACCGAGUACAUCCGCCCGAUAAGACAGCGAAAACUGUUUGCUCGCACAAACGAAAGUGGCCAAUCGCAUGAGCACGGUCCUCUGAAAGCUUCGGUCAUAAUUGUCACCCGAGAUCCUGGGCUUAGCUCCAUCCUGAAAACAACCCCACUAAUGCUCGGAGUGCUAUUACAAUCGAGCUUGAAAGUCAUAGUCUUGAUGGAAUGGACGCUAGUUAACGACCGCACAGAUGACGAGCUAAAGUUGCUCAGCGUGCCGACCCACCGGGUCUAUCUUCAUCUUCCCAAGGCCUCUGAUAAUGGCUGGCACCUCGCUCGGUUCAGGAACCAGCAGAACAAGUGGAAGCAGAAAUGGGGUCGAUCUGGACAUCUUUGGGGAUGCUGCAGUAAUCUUCAUUUUCUGUGUAUAGCCUUUCCUUGCAUAGGUUGCAAAGAUCUUAAAACGUCUUCUUGGUACUCCACAGUCGACAAGCUCCAUCGCGGGCGUGCGACUCUCCUAACCGCGAUGCCAUGCCUCCAUUACCAUGGGUGGACAGUCCUGGUCAUGCUGGCCGCCCAUCGUGCGAUAGGCGCAUCCGUCGCAUCGGCCGGUCCCGGGGCGCGAAAAAUUUGUGCCAUCGUCAUGGGAUUGUGGCACGCGCAUUGGUAUACACAUACUAUCGUAUCACCCGUUUAUUUAUGUCCCUUCUUGCUGGAUUCCGCCAAAUCACGGGACGGUGGGUCAGGAUUUAUAACUACAGUCAUGUUGCGUCAGACCCCAGCCACGUGCUCUUCACAAGUUACAGACCAUCAGCCGGGGGAACUAGGCAGAGGCAAUGGGAAGACUGGCCUCCGUACGAUAUCCCGCCCAGGACUAGGCUGGGUCCUUGCAAGCGGAAUGGGUACCAAAAGACCGACAGUAAACUUUAUUGGGCAGCCUCCUACCUGUCAGUAUACAGCCUGUCUAGCUGGACCCCCGCAGUAUCACAACGAUUAUUCUGCCCUUAAUACAUGGCCUAUAGACAACAAGGGCAAGUUCACCCUAAUAACCCGUCCAAGCGCAGGAGUAGAUUUGCUUAGGCUUAAUACUUUCUCAAGACACCCUGAUAUUCGCACCGCGGUACUGAGCUGGCAAGCACCUACUGACUUACACAUCAAAACCCAGCCCUGGGAAGACAAGCCGGAGAAUUUAACUAAAACAAGCACUGAUGACUGGACCCUAUUCAAUGGACUGCUGGAUGACACCUUUGGCCGUCGGGUUCCUUUUGUCCUUAAUUGUCGAAUGAGUCACUCAGUCUGGCAGAGUGUUACAUUUCUCGCUUCACGUACAAUGAAAAUCAUAACGUCGAGAGGAAUACAAAUUUCCGCGCUUAUCUAUGUUACUCUGGGAUUGGGUGGGAAUCUUACGAUUUGCACGGGAAUGAACGUGCAACUGUGCUGUUCGCAUACCAAUAGAGCAUCCAACAUUAUUAAGGCGUCGUUUCUCAAGUUAAGACAUAGGUCUUGCUUAAUUGGGCAACAGCUGGUCAAAUUGUUACUGGGUCGAAUGGCUCACCCUCAUCUAACACUGGAGUUAGAACAGUGGUUUACAUCAAAGACGGCUAAAAAUCCCUACGAUGUAAGGGGGGACCCAUGCUCUGCGGACUUGCUCAACCUAUUCGCCAUUAAGCGAAUCUGCUACCUUUCCAGAAAACACAGUCAUUUGCUAGGGGCCCCUUCGUUGUCCCAGACGGAGAGACGCUCCGCUCACAAAUUGAUCGCGCUAUGUUACUACAGGAAUGAAACUGCCAGGCGCGACCGUUCCGCUCCGACGGAUAGGGUAAGAACUCUGAGCUCGCCCUUUUGCAAACUUAAGAGCUACCAAUCAAGCAUACGCGAGAAAGUAAACCGCACAGCUUGGCUGCUUGCCCUAUCUCUCAGAGCCCAUCACUGGGACUAUGACGGUUCUAACCUGGCAAGCGCUGCAGACUACGACGUAGAAGAGCAUCAAUGGGUUUAUACUCAAAAGCCCUUCACCGUUGAGCACCUCAGUAUUUGGGGUGGCUACCGUGCUCGGCUGCACCAGGAAGUUACUUGUCCCGAGUCCAUAUGCUCCCCUAAGGGGGAAUUCCGGCCGUCGACUAACGCUGAGGCUGUUAAGUUGCCCCCGGAUUGUCUGGCCCCCAAGACUGGUCAUCUCGUAAUAUUCCGUCGACUUCUACCGUGGCAAAUUGCCGGCGCGUUGACCUAUCAGCGUGUCGACAUGCGACUGCGCAGUCGAAAGACGGACUGCGACCGAGUCUGGUUACUUUCGAUUGUAUCGAGCCCGGUUACGCGGGUUAAUGACAGGGAAUGGCACAUAGGUCGUAUAGGAGGUUCUGUUUUUACAAUCCAGCAUCGCGACGUUCUCCACCCAGAGCGGUGCAUUUUUAGGGCUGUUCUCCUAAAAAUGGCAUAUUAUCAUCCAUCUAUUUGUGAGAGACCCUCCAACUGCUCAAAGCACCCUCUUUACCUGACCGAUCUCCAUACGGUUUCGUCCCCCUUGACGUUUAACCACCCUAGUUCCACCCCAGUGAAGAACUACCUCGAUUCCUACGCGCACAAAAAAUCAUUUAACUUGUUUGUCGUAAAAAAAAGGAAGCUUCAUAACACAUUCGCGGCAGCCUGGGAACCUACAUGGAAUGAUGUUGAUGGAUUGAAGGUCGACAACCAGCCCCAACUGAUAGGGAUGGAUGACGUUCUCCGCCACUACGACGAUAGUACUCGGGUGUUCCUACCAAGCCUGCGUGCAACUCGGGUCAUUAUCCUUAACGCCAAAAUAUUUUCCCGAAUCGAAUCCACAUCAGCACCUACAACCGGUUUUAGGAUUCCAAAAGCAAUAACACGCGGUGUGCCUAAAAUCCCAACUCCUCGCUCGAGCGCUUUAUAUCUCAUAGGAACUGUCCUUCGCCCCAAACAUUUGGGAUCCUACGAUCUCCACUACAACAGCUACACACACCGAAUCGGAGAUGUGAGGCUGCAUACCAAUUCCAAUUCAGAUAGAGUAGUGCUAUCUAACUUCCACUUCUGGUGGCUAUUCAGAACUUGGACGAUUCCAAGCCUGUCUAGCUUGCCCCUUCCCGGCAAGCGAGCGCAAUGCUUCUUCGUCGCUGUGUUGACGAAAUACUCGGCUACGUGCGUGAGGGUUGGUUUGGGCAUUGGGCUCCCUGUGCGAUACGAAAGUAUGAGCAUUCUGGGGCUUUCCAAGCACGCGGCACGGAGGCCGGUUCGGCCUUUGCCCCAGAAUCAGGGACGGCUCCGACAACUGAGGUAUCGGAAAUACUCACAUCAGACAACAAAUGGUGCACACAGCACCCUAGGCGUCAUACUCACUAUCUGCCAGCAAUGCGGAUGCAACCCUGAAGCCCCUUACCCGUCGACUUUGUUAAGAUUCCCAUCGCUGAUAUGCCCCCGACUCUCUAAUCGCUCAAUGAGUUACGCCUGUGUGAUCUUUACAGCCCUCUCCGCAUCCAGUUUUAAUUGGAGAAUUUCGGCACGGGCGUUCCGUUCCAGGACACAGGGUGGCCGGCGUCACGAGGAGUACGAUCCCUUCCCCACUUCAAAUGCUGCGAACCCUGGGGCGCCCCGUAACCAAUCGGGCUCUAGCUUAGCGUGUCUCUCCCGCAGUCGCUGGGUCGUGAACAAGUGUCAAGCUGCAAAUGCGCAGGGGUUUUAUAGAAUCGUCUACCCUGCAUCGUACGGCUCUUGCAUCGAGGCGCGUAUCAUAACUACUGCCGCACCAUCGCAAACGUCUCGUAACGGGAUUUCAGGCUAUGACACCGCAGUAGUGAUUCUAGCGCAGCCCGGGCAUUCUAUGCUACCAUAUUCUGACACGGCGGGACCAUCGGUUAUGUCACCGAUUCAGGGGCCAUUGUAUGUCACUUUUACUACUAUCAGAAAACCACUCUACCUUAGACUUCAGCUGCAUCUGCCUGGAGGAACCAAUCCUACAUCACUGGACAGUUUUGAUUGUGCCCCGCGUGAACGUAAUCUUGAAGACGGCAAUGCAGUCCAAAAUUGGACCGUACCACUGAAGCAGCUCCAUACAUGUCUGUGUCCCUCAAUCUGCGUCAUUAACGGGGUGUUAAAGUCGCAUGAAUCAUACGAUGCAUCUCGAAUCAGCAUAGCCGAGAUGGGGUGCGUCAUCGAAGAACUACUGAGGGACGGACCAAGUCCGCGCCGAGGCAGCCCGACACAUAUGUCGGCCUGGUUCAUUAGAACGCAUGAGCCCCCCCCAGCACCAGCACCUCAUACUACUUCAAAGGUCUUAGGGAGGCGUCGCCCGCCAACUGAGGUAGGAUCUGUUUAUCUCCGGAGAUUCCGGGGAUUCAAAUCGAUGUAUCCUGCGUCCUCUGUUGCGACGGGGCGGCCACCAGGGAUACGACUACAUCUGAGGUUAGCCAAACUUGGGGCCCACGCAACUUGUGUGAUACGGUGGAACCACUUCCUAGGGUGGCAUGGCACGGAUGGCACUUCGCGCAUGGUUUGGUAUUUGCAUGCACGCCACGUUCGGACGUCAAUUCGUGGUGAAAUAAGUAACGGCCGUAAUAACGUGCGACGAAACCUUGUCGACCCCUAG\"\"\"\n",
        "\n",
        "# Translate RNA to protein\n",
        "protein_string = rna_to_protein(rna_input)\n",
        "print(protein_string)\n"
      ],
      "metadata": {
        "colab": {
          "base_uri": "https://localhost:8080/"
        },
        "id": "t1ewl-sZks2a",
        "outputId": "8d034df0-9f45-441f-eae2-6790066273a5"
      },
      "execution_count": null,
      "outputs": [
        {
          "output_type": "stream",
          "name": "stdout",
          "text": [
            "MHLWKILEIPAQNTCRRLEMIAIFKVHVCVGTELHAGLWILGAGLCTLCEMLRTFSWPQTTAWYAHLLFWRSSPTDKVLSLCNTTQYKQFLKNHCVQKTPTPQCRAWEGTAKMLVRGRPCETPHKITLDDNSVAPRLVTNPVSDKLYRHNVLVPRCEYVRPRRRAYRPILQHPYSKLSCDEAADRFDWYGLEHLNAEVACKSHLAVREIDANGWRTNTRQMDPYAIRSHTKVAPPPASSDKRRHTTPAPRILLVKFIDQRVCIIPKKKHNLSHCRDAALAGGEAPNSLTQYARPRGDLVAQVRVLQPSLEKVRSSYPDWVARVKRSEDPSIQAARSRFESTKSRLIVNCERQGLAWPSLLDKNLSMFHRLTELLPTSKIRPTVVTTENLLTRGRYIRRPRPMSCDVNLQARPLGLLVVYTRRHGLPRVPRPKLKGLIGTLRCSSRVAAEDNRFFTLRESKEPLTVWSYLCTLHLPGRHIFTPGEAYRKSVRALLAICQHMRLIQRLLALDNWSRSGRWAAPYLDYTHGRVFIIQGTVRIRNTCEVEEELTGGRNQPARPLSLQIITVGRSARRLNKEKNPRKTSGLHLTHNPARRAAYHLMKTLYPYVEYWQGCLHCRRTLCTPGTVAPVNPRPSMNKSKGSLRTSANVSTLGKTTNRGLDKGASHSLASQLLRSLYLGQRNRQYNQATIGYIYSDFYMVYLRSLSWSNAYAFPAPFLLNGEPITRLRAGRKDAVRLGSWKCCCPNAVVCLTPPFIPTLMESGCPMRKDDVILPQYSSYRFVASLSHTGQQLLVGKGTGRTRSKYSEQRPINGWCVPHRVPGKIVDLPLRSRPGHESVTFNPSQGCLSIDGRIGMSGCDTRKMGQFVRSRRLPFVRLQNLEFSRAIRVYLRNGGRLRCLRGTSAIEVIEIPRPSEIRGWCGGHRLVGLCFLHALAIPVLRLLVLANCWAEMAEFVGNGYISITYAKRQSGLRTFKTPSVDLDSERGGVHCAKRVLRRMCRRHPGFRKLVLHAYIFTGAVRIKLANKLTSDTKEERQRVWAGQYCWQSRTVRWPLRFFYSASRLDSKVTLHSFTDIPSKSDRLTARARTASRMCTAAESERLFTEPLTLLGETFQQTLASTRETNTGDPLSSRGPGSMRLKCWWGPAVFGPLSPPRCTGGACCNSECKKNITSLINPTFSMAGMVLTGPCVNYREGAITIAPRIDQSTYTFERSCTPLDYAYGLLNLGDLGPKYDTQGAPRTSKLSSIRDAPANGTEYIRPIRQRKLFARTNESGQSHEHGPLKASVIIVTRDPGLSSILKTTPLMLGVLLQSSLKVIVLMEWTLVNDRTDDELKLLSVPTHRVYLHLPKASDNGWHLARFRNQQNKWKQKWGRSGHLWGCCSNLHFLCIAFPCIGCKDLKTSSWYSTVDKLHRGRATLLTAMPCLHYHGWTVLVMLAAHRAIGASVASAGPGARKICAIVMGLWHAHWYTHTIVSPVYLCPFLLDSAKSRDGGSGFITTVMLRQTPATCSSQVTDHQPGELGRGNGKTGLRTISRPGLGWVLASGMGTKRPTVNFIGQPPTCQYTACLAGPPQYHNDYSALNTWPIDNKGKFTLITRPSAGVDLLRLNTFSRHPDIRTAVLSWQAPTDLHIKTQPWEDKPENLTKTSTDDWTLFNGLLDDTFGRRVPFVLNCRMSHSVWQSVTFLASRTMKIITSRGIQISALIYVTLGLGGNLTICTGMNVQLCCSHTNRASNIIKASFLKLRHRSCLIGQQLVKLLLGRMAHPHLTLELEQWFTSKTAKNPYDVRGDPCSADLLNLFAIKRICYLSRKHSHLLGAPSLSQTERRSAHKLIALCYYRNETARRDRSAPTDRVRTLSSPFCKLKSYQSSIREKVNRTAWLLALSLRAHHWDYDGSNLASAADYDVEEHQWVYTQKPFTVEHLSIWGGYRARLHQEVTCPESICSPKGEFRPSTNAEAVKLPPDCLAPKTGHLVIFRRLLPWQIAGALTYQRVDMRLRSRKTDCDRVWLLSIVSSPVTRVNDREWHIGRIGGSVFTIQHRDVLHPERCIFRAVLLKMAYYHPSICERPSNCSKHPLYLTDLHTVSSPLTFNHPSSTPVKNYLDSYAHKKSFNLFVVKKRKLHNTFAAAWEPTWNDVDGLKVDNQPQLIGMDDVLRHYDDSTRVFLPSLRATRVIILNAKIFSRIESTSAPTTGFRIPKAITRGVPKIPTPRSSALYLIGTVLRPKHLGSYDLHYNSYTHRIGDVRLHTNSNSDRVVLSNFHFWWLFRTWTIPSLSSLPLPGKRAQCFFVAVLTKYSATCVRVGLGIGLPVRYESMSILGLSKHAARRPVRPLPQNQGRLRQLRYRKYSHQTTNGAHSTLGVILTICQQCGCNPEAPYPSTLLRFPSLICPRLSNRSMSYACVIFTALSASSFNWRISARAFRSRTQGGRRHEEYDPFPTSNAANPGAPRNQSGSSLACLSRSRWVVNKCQAANAQGFYRIVYPASYGSCIEARIITTAAPSQTSRNGISGYDTAVVILAQPGHSMLPYSDTAGPSVMSPIQGPLYVTFTTIRKPLYLRLQLHLPGGTNPTSLDSFDCAPRERNLEDGNAVQNWTVPLKQLHTCLCPSICVINGVLKSHESYDASRISIAEMGCVIEELLRDGPSPRRGSPTHMSAWFIRTHEPPPAPAPHTTSKVLGRRRPPTEVGSVYLRRFRGFKSMYPASSVATGRPPGIRLHLRLAKLGAHATCVIRWNHFLGWHGTDGTSRMVWYLHARHVRTSIRGEISNGRNNVRRNLVDP\n"
          ]
        }
      ]
    },
    {
      "cell_type": "markdown",
      "source": [
        "####**<font color=crimson>TASK 21.3 Commit to GitHub**</font>"
      ],
      "metadata": {
        "id": "dvtR4N7L6sZ_"
      }
    },
    {
      "cell_type": "markdown",
      "source": [
        "#<font color=blue>**P22.**</font> SeqIO – a function to parse( ) sequence files"
      ],
      "metadata": {
        "id": "bDJqtRiX3fEG"
      }
    },
    {
      "cell_type": "markdown",
      "source": [
        "####**TASK BP 22.1** Read in the practice dataset from Rosalind #9 and print the id of each sequence in the file."
      ],
      "metadata": {
        "id": "VKyMhLjx7nIo"
      }
    },
    {
      "cell_type": "code",
      "source": [
        "from Bio.SeqIO import parse\n",
        "\n",
        "for seq_record in parse(\"practice_9.txt\", \"fasta\"):\n",
        "    print (seq_record.id)\n",
        "    print (seq_record.seq)\n",
        "    print (len(seq_record.seq))\n",
        "    print (seq_record)"
      ],
      "metadata": {
        "colab": {
          "base_uri": "https://localhost:8080/"
        },
        "id": "xUi3JEoh7yJ6",
        "outputId": "0268cd9f-2c8c-4763-d3bd-02d54c9b0afd"
      },
      "execution_count": null,
      "outputs": [
        {
          "output_type": "stream",
          "name": "stdout",
          "text": [
            "Rosalind_6404\n",
            "CCTGCGGAAGATCGGCACTAGAATAGCCAGAACCGTTTCTCTGAGGCTTCCGGCCTTCCCTCCCACTAATAATTCTGAGG\n",
            "80\n",
            "ID: Rosalind_6404\n",
            "Name: Rosalind_6404\n",
            "Description: Rosalind_6404\n",
            "Number of features: 0\n",
            "Seq('CCTGCGGAAGATCGGCACTAGAATAGCCAGAACCGTTTCTCTGAGGCTTCCGGC...AGG')\n",
            "Rosalind_5959\n",
            "CCATCGGTAGCGCATCCTTAGTCCAATTAAGTCCCTATCCAGGCGCTCCGCCGAAGGTCTATATCCATTTGTCAGCAGACACGC\n",
            "84\n",
            "ID: Rosalind_5959\n",
            "Name: Rosalind_5959\n",
            "Description: Rosalind_5959\n",
            "Number of features: 0\n",
            "Seq('CCATCGGTAGCGCATCCTTAGTCCAATTAAGTCCCTATCCAGGCGCTCCGCCGA...CGC')\n",
            "Rosalind_0808\n",
            "CCACCCTCGTGGTATGGCTAGGCATTCAGGAACCGGAGAACGCTTCAGACCAGCCCGGACTGGGAACCTGCGGGCAGTAGGTGGAAT\n",
            "87\n",
            "ID: Rosalind_0808\n",
            "Name: Rosalind_0808\n",
            "Description: Rosalind_0808\n",
            "Number of features: 0\n",
            "Seq('CCACCCTCGTGGTATGGCTAGGCATTCAGGAACCGGAGAACGCTTCAGACCAGC...AAT')\n"
          ]
        }
      ]
    },
    {
      "cell_type": "markdown",
      "source": [
        "#<font color=blue>**P23.**</font> SeqUtils.gc_fraction( ) – a function to compute GC content"
      ],
      "metadata": {
        "id": "SAjUYBpe3pwi"
      }
    },
    {
      "cell_type": "markdown",
      "source": [
        "####**TASK P23.1** Modify the script from TASK P22.1 so that it prints the GC content for each sequence in the file"
      ],
      "metadata": {
        "id": "kEjUu8HfHniC"
      }
    },
    {
      "cell_type": "markdown",
      "source": [
        "####**TASK P23.2** <font color=orange> **Complete Rosalind #9  Computing GC Content**</font>"
      ],
      "metadata": {
        "id": "nJeXcQR7HwOf"
      }
    },
    {
      "cell_type": "markdown",
      "source": [
        "####**<font color=crimson>TASK 23.3 Commit to GitHub**</font>"
      ],
      "metadata": {
        "id": "gavUUL39INzP"
      }
    },
    {
      "cell_type": "markdown",
      "source": [],
      "metadata": {
        "id": "Zf_OZq9R0dnq"
      }
    },
    {
      "cell_type": "code",
      "source": [],
      "metadata": {
        "id": "2wn9uIUVtsCz"
      },
      "execution_count": null,
      "outputs": []
    },
    {
      "cell_type": "code",
      "source": [
        "# The FASTA input\n",
        "fasta_input = \"\"\">Rosalind_7608\n",
        "TGGTGAGTATTCTACGGTTCTCCCGTATCTGCTTCAGGGATAAGTCCCGTTGTTGCGTTG\n",
        "GGAATAGTGGGGGACGATGCCCGGACGGGGGAGTGGGGGTAGGGCTCTAACCGGATGGAT\n",
        "TTCTGACCTTCCTCAACTTGGCTTTATGGGCCTTGCCAACTCACGTCTTTTTTAGAGCTA\n",
        "GCTTATGATCCTGACATACCGCGGCGCCACGGACCCGTTAACATGTATGTCAAACGGAAT\n",
        "AGTTCCCGCCTTCTACTGACGTGCGGGAGAATCTGAATAACTATTTAATAACTTCCGGTG\n",
        "ACGGCGCGATAAATATGGTGATTTTTTAGTCTTTGTAAAGCGCGTCTCCTGTTGCTCACA\n",
        "AGGTGGTAGATGACACTCAGCAGTAGGCAGTATTCGCCGACAATAGTTGTAATCGGACGC\n",
        "TCGCACGTCCTGGTAAACGGCCTTTCGGGACGTGCCTGCAGTGTCGCTACCGAACTTTTC\n",
        "ATATCCTACCAAGCCTCACACCCAACTTGGCAGATCCCAACTAACAAAATTTTTTCACGT\n",
        "GTCTGATTAGATTTACAGTCGCACTAACTCCTGACTGATTATCATTGTTACTTTGATGTC\n",
        "TCAAAAACTGTGCTAGCGGCTGTGCGTTCCTAGCGCGTTTTTGGCCACAGACCAGTGGCC\n",
        "CACATGATTTCGATACGGAATCGCAGGTTGTAGTCAAGGTGTTTTCGCTCAACGAGGTTC\n",
        "CAGGCGCCGAGCGACTTGCAATGAGTCGTTATGATGGGGTGAATTAATTGCTCTAAGTAG\n",
        "GGAATCTGGCACACTCGAAGTATCGAGGTTTGCAATAAGGGAGTGATGTGTCAGTACTTA\n",
        "CCGTAAGATTGG\n",
        ">Rosalind_1126\n",
        "GGGTAACCCCCATCTAATCAGTACTTTGCTTTTCCTCCAAGACCTCGCTGTTTAAGAACG\n",
        "ACTATGATTAGTATCATTTTTAGTCTCTGCTTGTCGCAAATGCCTGAGAGGGCCATCTTT\n",
        "CCCTCTACCTGGAACACGGACGGTAGGATGCCGCCAACGGCTGCGTGAGAGTTTGGGCGA\n",
        "CCTACCAATAGGCGAGCTACGGAGGTGGCTTGTTATATTACCATGGATTGGGATGCGGCA\n",
        "TTATACTTAAACTTGGCAGTTAGATTGTGCAGCCTGGTCTATTGGATATAGAGCAGACTC\n",
        "GGAGGAGCAAGCCGCTCTCAATGCGTCGACCTAATAGGTACTCAACCCGGCGACCCCCAT\n",
        "AGGGCCTTTTTCAGGACGTGAGAAGCGATGCCCCAGGGCGCCCTTTACAAGGCGTACATC\n",
        "AGTGCTCCCGTACTCTAAGAATGCAAAAATTAGTAAGTCGTTACCGACCTCGCCGACAAC\n",
        "GTTCGTTGTCCACGCTGCTAAGCTAGCCACAAAGTACTTACAAATTTCCTAATGCCATCT\n",
        "GTTTCACTGCATCTCGAAATCCCAACACCCAAACGGTCAGTCCGCCTATGCCTCGCGTTA\n",
        "CTCTCATTTTAGACCCTAAAGACCATAGGCGGTGCGGGCGGTGTCGTTCGCGAGTAAGAG\n",
        "GTCCCGAGTCCGACGACCCGCGAAGTCTCATCACTCCTACGCGTGGATGTTGCAGGGTAC\n",
        "ACACACTACTGTGTCGGGGCAAACATGGGTGTTTGCTCTATCGGCAGTTCTGGGGTATCC\n",
        "TCACATACTCGAAGAGACACCCCTATCGGACTGACCTTACGTCCCCGTATCGACGTAGAG\n",
        "GCCATTCATAATAGTGAAGATCGTTACATATCATGACATCCGAACGCAGACCAACTTGCG\n",
        "AGCCCGGGGAACAGACCTTCTTTTGAATTCGTTCACTTTCCCTCACTTCCGTAGTAAAAT\n",
        "TGGTACGCGGTGCTCTGCATTGCTTAGA\n",
        ">Rosalind_3652\n",
        "CTCACTTTGATGTATTTAAACCTCTTTGACCCGATACTTCGATGGCACTACTAAGGTGGC\n",
        "ATTCGTATACAATCATTGTAGAGCACCACTCTTTATAACATTCGGACGGTACAGATTATA\n",
        "CACCTTACACCATGATACGTGATAAAGTTTTGTTCATGGTGGCCAGTAAATTCAGGGGGT\n",
        "GGCATTAAAGTGATTACATAGTAGATCCTTCATGGACGGAAGCTAAGAATTCCTCAAATG\n",
        "TTAATAAGAAAATAGACTCCTTCTGGGGACCATCACTCCTAGCGCTCTGTACGTTCGTAC\n",
        "GCACCTTATAATGGATAGGCCGCCGCGGCTTGTAAGGCTTGGTGGAGCGCCGTATGGGCT\n",
        "TGTAAATACCATACGTCCAGGAGATAGGTCGGTAAGATTCTGATTACCGAATCAGGTGTA\n",
        "GCGTCTGTTTGGTTACCGCTTGAGGACGGGGTCCCCGGTCCCCCGCGAGATCTAAAAACT\n",
        "TCGTGACCCACCTAATCTTAAGCACTCAACGGCGTAGTTGACTCGACTGCTTAGGCGGTA\n",
        "ACGATACGGCAACAGTGTTGCCACATTAGACAATTAGCCGGTCGGGATCCCATGCAGCTG\n",
        "AACCGTACTGGCCCCAGGATCCGGTGCGCCGTCCCTGCAATGGATACGCTCCGTGCCTCT\n",
        "GAAAGTACGCGGTGCTGGCGCCATGATAATGTCACGCACAATGGTGCACTCTGCGCGTAC\n",
        "CGCCCAGTTGCCAGTGGGTGAAGCCCGGGATATATTAGGCATAGTCCCGATTCAGGGCAA\n",
        "TTATTGTTATTTACGTACATAGACTTGGGTGTC\n",
        ">Rosalind_5164\n",
        "ATAACCCCCCCAAGAACGACCGCTCGAGTCCCCAAATAGACCCGCAAAGCGTGGAGGCGC\n",
        "GATTTTGCTGGCACTTCTGTGAGATCACTAGGTTTCATTTATCTGCAATTTTTACAGGAC\n",
        "GTCCGTAGTCTTCCGGATGCGTAAGTCCAAAATGTTATACCTCCATGAACCATCCGTACA\n",
        "CCAACTGCGGTCAGTCTAGCCCTTCCTTGCGCCAGTTAAAGCACACCCCTATCCGCTAAA\n",
        "GTTACACGCATCAACCCGTGTTTCGGGACGGCCAAGCAATCTAAGATCCTATGGTGAGGT\n",
        "TGTACTGCCAATCTGCTGTCTGAGCCCTGGCGCCCAAAATTGCATTGCCGGCAGTCGGTG\n",
        "AAACAGGTATCCCGAAGCAGGATGTTCATTTCGTAGCACTCAAGAGAAGAGCGTGCCAAT\n",
        "CTAGAAATCTATTATGCTTCGTATCAACACCACACCTCGTGACCCTACAACTGGTTCACG\n",
        "CTTGCGCAGCATGCCCTGGCCAGTATAAAGGGCATCTAAAGCCGCGGCGTGGCGATCATA\n",
        "TGAAAACTATCGGCACGACGGGAGAGCTCCGATGCATTTTGTCTTTGCGAGAAGTTAACA\n",
        "CTAGCTGCCGCTTCGTGAAAACAACTCTTATTGTGCGATGCCCCCGTGTATCACCGGTAT\n",
        "GAGCACCCCCATTAAGAGCCCGAGATGTGAACGGGAAATGGACCATGAACCAATGAATCG\n",
        "ACCTCGAGGTAGTCGAAAATGGCCGAAATAGTAGATACTGGATCCTAAGACGATCATCCT\n",
        "ACGCAGAGGGCTTAATCGGCGACAACTGGGATCAAACTAATTCTCGATCAAAATACCTCG\n",
        "GACCTCAATCACTATAAGCAGTATAAAGGGTAGGGAGCTCTATGAAAAAATTCCTTTTGC\n",
        "CTAGGAGGTAATCCAGACGCCTACTAAACTTTGCGGGGTAACGTTCCCCAAGAGTGCTAC\n",
        "TGGTGAGGATCCGGCGCATCACCGCT\n",
        ">Rosalind_5448\n",
        "GCTGGTTCATGTAATCGAACGCGCTCCTGGCTCAGGCCTGGTTAAACGGCTGACGTCATA\n",
        "CATTGCAATGGCAGGCACGCAAGTAATTTATCCCATTAGGTCAGAGAAGAACACGTATTC\n",
        "TTGCGACAAACTACCTAGCCGGCAACGCATCGCACTCCAATACGTCTCACCTCCAATGCA\n",
        "CAATTTCATATCACGCGCGCAAGCTAGCGATAATTTTCCAACTCTCTTAGGACGGCCTGA\n",
        "AAAATCATACCATGACCCAATTCACCCCTAGGCTTCCGGGTCCCGGCCCCTGGGTTGTAC\n",
        "GATGCTCGTTGCCTCTGCTGGTGCAGGTGGGATCCCCTGCATACCACTACATTTCGTGTA\n",
        "CCAAGGCGCAAATGTGTCAGTCTTAATTACAGAGGTAGGAAATCCACGCACTGGATCCTA\n",
        "CAATCATGCTCCCGACCCATGCTACGCAGTGCCCTAATTTGACTGAGTGCATCTCGCAGG\n",
        "CCTACCCCGGAGCTCACGGATATGCGGAGTTGCCGGGGTTAAAGCGGCCCTGGGGGGAAC\n",
        "GCGAACAGGAGCTATCCTAAACATAGAAGGTGCTTATATGACAAGACGGCTCCGGGAGGA\n",
        "GTGAGGCTATTACGAGGACTCTGGGTGTCCCTGATGCGATCACGTACCGTCTCACAAACA\n",
        "GTGGCAGTGGGTTGGAAGAACAAATATCGGTGGAAACATTGATTGGATGTGAGCGTACGA\n",
        "CCCAAATATAAGGCGCCAAATGAAGCCTTCCAAACTTGCCCTTCCGTACTCGATAGAGTC\n",
        "ATGCACCCATTGCCGCTAACCTATTTTTGTGAGTGGTCACATTCAATGAGACTCTTCAGG\n",
        "AGGGCCGATCCTTGACAGAATACCGGAGGTAACGGGGGCAGCGGGCTTCGAGATGATTCT\n",
        "CCTCGTAACCGCATTAGGCCGAGTCTGTGCTAAAACAACGCAGTTTCGTCCATCGCCGAA\n",
        ">Rosalind_4030\n",
        "TCAAACGTATATCATTTGCACCGTACATGTGACCCGGCCGGAAACAGTCAGCGTGAATTA\n",
        "TCACGCAACAGCCAATGGAGGGGTAATAAGCGCCTTGTCGATGGAGCCGCTAATTTAAGA\n",
        "CTGGCCGCTGGTGGAAAATCCGCCTTAACAGGTACAACGTGTCACTGACCTGTTGCATCC\n",
        "GTACCGTCGGAGTAATTTCACACGAAGCGGCTTGAGTTTGCATAATATGGCTCTATAGTA\n",
        "CAGCTAGTGAGTACCAAACACACAAATCAGCACTGACCAGCGGGGGCCCTCCGGCTGACC\n",
        "TTCGGATCCTTCATCTCCGTCCCCAAAACAGCCTCTATTGCACACGACTGGCCGAGATGT\n",
        "GTTGAAATATCACTTCCCCGTGAGGTCAACAAACGTCCTGACGAGTAACCAGGCATCACT\n",
        "ATCATAGGAATAATTGCTCGAGAACAGATTTAAGTTAAAGGCGCGCCACAGCCATATAGG\n",
        "TCGGGTCAGGACAAGTTCATGCATGGAAATGAAGGGAGAAGCACTAGATCGGATAGCTGC\n",
        "GGATACATTCATCATGTTGATTGTTTGACGGGCACCAGCACGTAGGCACTACGGTCGACC\n",
        "GGAATTTGACGATTCCACTGTTAGGCAGCTCCAGTCCCAGCTGTCTTTGCGCCAGACGTG\n",
        "TTACGGTCAAAGATGCGTACAGCCTATCACGTTGACTCTCAACCAACGCGCTTAGGAATA\n",
        "TGGGCTACATTAAGTCCAGCGTGAGGCAGTATCTCGCTTATGCCCATTTCAGTGTCTGCG\n",
        "TCTAGCCGGACTTCGAGTACTCAGATATCTGGAGCATGGGAATACGTGGCCGGATTATAA\n",
        "ACCCCCGTGGAACGCAGGCGTCTTCCGGTCGTCGCCCCAGGGCTTCCAGCGCCTAAGACG\n",
        "CAGTCCAAGTTCACTTATAGACCTTGACTAATTCTATGGAG\n",
        ">Rosalind_9420\n",
        "ATCTAATCACAATACAAAGCAGTCGTCACGATTTTCCGCGTCGTGGCCCTACAACGATTA\n",
        "GGTTCATCTACGAGTGAGCGACCGGGTAGTAGTATTTAAGATGGACCCAATTATCCTTCC\n",
        "CAAGGGGCCGAGTATTGGACTAGATCACAACGGGTGACGGCTACGTCGTCGTTTTAGGGT\n",
        "CAGCAGTCCCTAAGACCCCACGATATTCCCTTTCAGTGTCTCTGGTCTACGACAGGTACG\n",
        "ATGACAATTTTGGACCCAGCATATGACGCACGAACCGGACGCAGCGCGTAAGGTCGAAGT\n",
        "AGCGGATGTGCCTTAACCGTATGAACGATTGGGATTCAGGCCAGGTGGGCAGGGGTTTTT\n",
        "CTACTTTGGCGAATACTCTATGTCGTAGTGTAGTGCACCTCCTGCCAAGTTTATTTTCGG\n",
        "TAAAATGCGTGCGTGTGAAAGCCCGGTATCATACCCCGGATCTATTCCATATGCGTGGAG\n",
        "CCACCAGCGTAATTGATACTGCGATCATGTCGGCGTCCACCCGTGAACTTTGCGCATGTG\n",
        "GTGATTCCACAATGCTTTCATCGCCTCGGTAACAATAGAGCCTTAGCCTAATTTTAATAT\n",
        "CGGGTATCGCAGCACGAAAATTCGAGCCGGCGGCCTGCCTATCCTAAATCGCACTGGCGC\n",
        "ACATACCTATCACTGTGGCAGCGGTCATCACGATGGTGCATCACATAAATGGGCAATTCC\n",
        "ATCCCCAAATTGTCGAAGTGCATCAACGAGTTGATTGACCATCAAGTAACCCAAACTGAA\n",
        "CCGTTTTCCGATGAGAATACCAT\n",
        ">Rosalind_4876\n",
        "ATGCGGTTGGGCGTCCCGGCCTATGTAGATCTGTGCTTCTCCGCAAAGCGGCACTCCTAT\n",
        "GTCACCCTGTTCTGACGTGAGTGATACTTCGTTGAGTTTCAACGAGAAATGATGAACGCG\n",
        "TCGCTGCGAGTTTGCATCATATAGGCCTCAAGATCAGGCTATCGTAAGGCACGCTTCTGA\n",
        "CACTGGGACATGGGATGGGTGGGGGCCATCGGCGTCGCTCCTATTTCCTTCGTTTTTGCT\n",
        "TACGTCTTGGGCCCGCGTCTATGGTTAGAATGGACGGCTTCGCGTCGCGAGATGCGGTCA\n",
        "ACTTTAGGCAATGTAAATGCATCAAATGCCTTGCATAGGCGGCTTTCGACGGTCTACACA\n",
        "CCTTAACAAATTTGCTCCCGTTGTAGTGAATTGTCATAAGAACAACGATGTGGCAGTGAT\n",
        "TAGTCAACCCAGTAATAGGCATAAAGTCCTCATGCGTGGAGTAATTAAACGCCGGGTGGG\n",
        "GTAACCACTGTTAAAAGGGTACAACTTCCACGAAAGTGATCAGCCCCACTTGGGAAATCC\n",
        "CAATAACAACTAAGAGTGTGAAAATATGGCTCTCACCTCTCATCGCGAGCATCGTTATGA\n",
        "AAGCAGACTCAGTCGTAACGAGGGATGGTACGCTACGGTCGTTGCCGGTTGGAAACAGTG\n",
        "CAAGAGTTGATCGCCAGCTGGGCGTCGTGTGCTGGCTCCGCGTGTAAGGGAGCAAACAAC\n",
        "GCGCGATGCCCTAATCGACATGCGCATATTGCGGCGTGGTACGTACTGTCAGGACAGGCA\n",
        "ATCCTGCCCGGATTGTACATAGCACAAAATGAGATCATTTGCTTCCAACGACAAGGTGCC\n",
        "GCGTCAAGGAGTATTGTGGATTGTGCAACGAGAAATTGGGCCCCTTCACTGTACCTTC\n",
        ">Rosalind_0264\n",
        "AATGGTAAGCCACCAGTTATCCCTGTGGGATTGTGGGCCAATACATTCTACGCAAGTCAC\n",
        "TTGGTACTAATTTCTAGGTTATACTCTGCTAGTATGGCGGCCCGGGGCCAGAAGGCATGG\n",
        "GAAAGCTCTTCTTGGGTGTATTATGGGTTCGAAGGACTGCCCTTACCGAGACTGCACGAG\n",
        "AACCGCGGCATCGCCGTATGCAACTCAGGAGGCCCCGTATCAAGGCTAGATTTTATCCCC\n",
        "AAACGGAGGCATCTAAGTGCTAGTATGTTGTCACGTTTCTCAGGACAGCTGCGGTAGAGG\n",
        "GGCCTGCCACGAAGTGTATATCTAAAATAATCACCTTTTAACCTCGATTTTCCGTGGCAG\n",
        "CATGCAGATGGGATCTCCGATCTCACTATGCCCCCTTTACGATAACATTTACGGAAGTCC\n",
        "TCAGGAGCGTTTTGTCGCGTAAGCAACGGATAACGAGAACGCCCTTTCCTATGAAACAAC\n",
        "TAGTGTTAGCGATGCCGTTTTCAACTGACTTAACTGCTTGTCCCCACTGTCTTGAACGCG\n",
        "TCACCGGCCAGATCCGAAAGCGGCAGTAATGTCACTCCTCCATTACCTGTCTTCTCGTCA\n",
        "ACAAGCTTCTCCCGTACCTCATCGGAAGCATTACATGCGCACCGGTAGAGAGCGCGAACG\n",
        "TATGGTATAGCTTGCCACGGACGGCATCCGAGTCGGCGCGTTAATTAAAGGTTGTGGTCC\n",
        "ATTACGATCCACAATGCAATTAAATGCTGTAGGCTACTACTCCGTTTGCCCGCTACGAAG\n",
        "CAGGCATTTGGGAATCAAATTAGGCTGACTTCTCATGAATCGGTACTAATGAAACAGCAG\n",
        "ACAAGCGCATCTCATGATCCAAACCTAACCCAGAGGATTAATGAACTCAATAACAGTAAT\n",
        "TTCAAGATTTTATAGGTAT\"\"\"\n",
        "\n",
        "# Function to parse FASTA input\n",
        "def parse_fasta(fasta_str):\n",
        "    sequences = {}\n",
        "    seq_id = \"\"\n",
        "    seq = \"\"\n",
        "    for line in fasta_str.splitlines():\n",
        "        if line.startswith(\">\"):\n",
        "            if seq_id:\n",
        "                sequences[seq_id] = seq\n",
        "            seq_id = line[1:].strip()\n",
        "            seq = \"\"\n",
        "        else:\n",
        "            seq += line.strip()\n",
        "    sequences[seq_id] = seq\n",
        "    return sequences\n",
        "\n",
        "# Function to calculate GC-content\n",
        "def gc_content(dna):\n",
        "    gc_count = dna.count(\"G\") + dna.count(\"C\")\n",
        "    return (gc_count / len(dna)) * 100\n",
        "\n",
        "# Parse sequences\n",
        "sequences = parse_fasta(fasta_input)\n",
        "\n",
        "# Find sequence with highest GC-content\n",
        "max_gc_id = \"\"\n",
        "max_gc = 0\n",
        "for seq_id, seq in sequences.items():\n",
        "    content = gc_content(seq)\n",
        "    if content > max_gc:\n",
        "        max_gc = content\n",
        "        max_gc_id = seq_id\n",
        "\n",
        "# Output\n",
        "print(max_gc_id)\n",
        "print(round(max_gc, 6))\n"
      ],
      "metadata": {
        "colab": {
          "base_uri": "https://localhost:8080/"
        },
        "id": "sSG686GPjlEQ",
        "outputId": "75767441-64b7-490f-807d-ae6ccff6ed30"
      },
      "execution_count": null,
      "outputs": [
        {
          "output_type": "stream",
          "name": "stdout",
          "text": [
            "Rosalind_5448\n",
            "52.083333\n"
          ]
        }
      ]
    }
  ]
}